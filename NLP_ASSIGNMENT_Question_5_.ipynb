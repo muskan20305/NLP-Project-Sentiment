{
  "cells": [
    {
      "cell_type": "markdown",
      "metadata": {
        "id": "szXzy5eSkEeq"
      },
      "source": [
        "# NLP Assignment 1 (40% of grade): Sentiment Analysis from Tweets\n",
        "\n",
        "This coursework will involve you implementing functions for a text classifier, which you will train to identify the **sentiment expressed in a text** in a dataset of approx. 27,000 entries, which will be split into a 80%/20% training/test split.\n",
        "\n",
        "In this template you are given the basis for that implementation, though some of the functions are missing, which you have to fill in.\n",
        "\n",
        "Follow the instructions file **NLP_Assignment_1_Instructions.pdf** for details of each question - the outline of what needs to be achieved for each question is as below.\n",
        "\n",
        "You must submit all **ipython notebooks and extra resources you need to run the code if you've added them** in the code submission, and a **2 page report (pdf)** in the report submission on QMPlus where you report your methods and findings according to the instructions file for each question."
      ]
    },
    {
      "cell_type": "code",
      "execution_count": 1,
      "metadata": {
        "id": "u6D9GDHdkEet"
      },
      "outputs": [],
      "source": [
        "import csv                               # csv reader\n",
        "from sklearn.svm import LinearSVC\n",
        "from nltk.classify import SklearnClassifier\n",
        "from sklearn.pipeline import Pipeline\n",
        "from sklearn.metrics import precision_recall_fscore_support # to report on precision and recall\n",
        "import numpy as np"
      ]
    },
    {
      "cell_type": "code",
      "execution_count": 2,
      "metadata": {
        "id": "IBaov177kEev"
      },
      "outputs": [],
      "source": [
        "def load_data(path):\n",
        "    \"\"\"Load data from a tab-separated file and append it to raw_data.\"\"\"\n",
        "    with open(path) as f:\n",
        "        reader = csv.reader(f, delimiter='\\t')\n",
        "        for line in reader:\n",
        "            if line[0] == \"Id\":  # skip header\n",
        "                continue\n",
        "            (label, text) = parse_data_line(line)\n",
        "            raw_data.append((text, label))\n",
        "\n",
        "def split_and_preprocess_data(percentage):\n",
        "    \"\"\"Split the data between train_data and test_data according to the percentage\n",
        "    and performs the preprocessing.\"\"\"\n",
        "    num_samples = len(raw_data)\n",
        "    num_training_samples = int((percentage * num_samples))\n",
        "    for (text, label) in raw_data[:num_training_samples]:\n",
        "        train_data.append((to_feature_vector(pre_process(text)),label))\n",
        "    for (text, label) in raw_data[num_training_samples:]:\n",
        "        test_data.append((to_feature_vector(pre_process(text)),label))"
      ]
    },
    {
      "cell_type": "markdown",
      "metadata": {
        "id": "9UkrRLZukEev"
      },
      "source": [
        "# Question 1: Input and Basic preprocessing (10 marks)"
      ]
    },
    {
      "cell_type": "code",
      "execution_count": 3,
      "metadata": {
        "id": "lXbX8KwekEev"
      },
      "outputs": [],
      "source": [
        "def parse_data_line(data_line):\n",
        "    # Should return a tuple of the label as just positive or negative and the statement\n",
        "    # e.g. (label, statement)\n",
        "\n",
        "\n",
        "    label, statement = data_line[1], data_line[2]\n",
        "\n",
        "    return (label, statement)\n"
      ]
    },
    {
      "cell_type": "code",
      "execution_count": 4,
      "metadata": {
        "id": "Vxp0zqmikEev"
      },
      "outputs": [],
      "source": [
        "import re\n",
        "# Input: a string of one statement\n",
        "def pre_process(text):\n",
        "\n",
        "    # Should return a list of tokens\n",
        "    # DESCRIBE YOUR METHOD IN WORDS\n",
        "\n",
        "    text = re.sub(r\"(\\w)([.,;:!?'\\\"”\\)])\", r\"\\1 \\2\", text) # separates punctuation at ends of strings\n",
        "    text = re.sub(r\"([.,;:!?'\\\"“\\(\\)])(\\w)\", r\"\\1 \\2\", text)\n",
        "    text = text.lower()\n",
        "\n",
        "    tokens = text.split()\n",
        "\n",
        "    char_ngrams = [text[i:i + 3] for i in range(len(text) - 2)]\n",
        "\n",
        "    # Include trigrams\n",
        "    trigrams = [tokens[i] + \"_\" + tokens[i + 1] + \"_\" + tokens[i + 2] for i in range(len(tokens) - 2)]\n",
        "\n",
        "    # Include bigrams\n",
        "    bigrams = [tokens[i] + \"_\" + tokens[i + 1] for i in range(len(tokens) - 1)]\n",
        "\n",
        "    #Stylistic features\n",
        "    sentences = text.split('.')\n",
        "    sentence_lengths = [len(sentence) for sentence in sentences]\n",
        "    #return sentence_lengths\n",
        "\n",
        "\n",
        "\n",
        "    return tokens + bigrams + trigrams + char_ngrams + sentence_lengths\n",
        "\n",
        "\n",
        "\n",
        "\n",
        "    #return tokens"
      ]
    },
    {
      "cell_type": "markdown",
      "metadata": {
        "id": "34Jzc4odkEew"
      },
      "source": [
        "# Question 2: Basic Feature Extraction (20 marks)"
      ]
    },
    {
      "cell_type": "code",
      "execution_count": 5,
      "metadata": {
        "id": "UP9m178CkEew"
      },
      "outputs": [],
      "source": [
        "global_feature_dict = {} # A global dictionary of features\n",
        "i=0\n",
        "\n",
        "def to_feature_vector(tokens, training=\"True\"):\n",
        "    # Should return a dictionary containing features as keys, and weights as values\n",
        "    # DESCRIBE YOUR METHOD IN WORDS\n",
        "    featureVector = {}  # local feature vector for this example (in dict form)\n",
        "    for t in tokens:\n",
        "\n",
        "        # First add to the global feature dictionary, and give it a position\n",
        "        # if in training\n",
        "        try:\n",
        "            # if the word t is in the dictionary,\n",
        "            # then assign i to its value in the dictionary\n",
        "            i = global_feature_dict[t]\n",
        "        except KeyError:\n",
        "            # else if it's not in the dictionary,\n",
        "            # it's a new feature in training, add new entry\n",
        "            if training:\n",
        "                i = len(global_feature_dict) + 1\n",
        "                global_feature_dict[t] = i\n",
        "            else:\n",
        "                # At test time don't add new entry\n",
        "                i = global_feature_dict[\"<unk/>\",None]  # get the special unknown word token\n",
        "\n",
        "        # Add to local feature vector (as a dictionary entry with a weight)\n",
        "\n",
        "        # Skip over None values\n",
        "        if i is None:\n",
        "            continue\n",
        "        try:\n",
        "            # if the word w is in the local feature vector (repeat word), add 1/n weight\n",
        "            featureVector[i] += 1 #(1.0/len(words))\n",
        "        except KeyError:\n",
        "            # else if it's not in the local feature vector, create the entry with 1/n weight\n",
        "            featureVector[i] = 1 #(1.0/len(words))\n",
        "\n",
        "        if False:\n",
        "            # example binary alternative to the above (just add it as 1 if present)\n",
        "            if not i in featureVector.keys():\n",
        "                featureVector[i] = 1\n",
        "\n",
        "\n",
        "    return featureVector\n"
      ]
    },
    {
      "cell_type": "code",
      "execution_count": 6,
      "metadata": {
        "id": "l7xx0iUUkEex"
      },
      "outputs": [],
      "source": [
        "# TRAINING AND VALIDATING OUR CLASSIFIER\n",
        "\n",
        "def train_classifier(data):\n",
        "    print(\"Training Classifier...\")\n",
        "    pipeline =  Pipeline([('svc', LinearSVC(dual=True, max_iter=5000))])\n",
        "    return SklearnClassifier(pipeline).train(data)"
      ]
    },
    {
      "cell_type": "markdown",
      "metadata": {
        "id": "D43q6Ux2kEex"
      },
      "source": [
        "# Question 3: Cross-validation (20 marks)"
      ]
    },
    {
      "cell_type": "code",
      "execution_count": 7,
      "metadata": {
        "id": "pU0larP5kEex"
      },
      "outputs": [],
      "source": [
        "#solution\n",
        "from sklearn.metrics import classification_report\n",
        "from sklearn.metrics import precision_recall_fscore_support, accuracy_score\n",
        "\n",
        "def cross_validate(dataset, folds):\n",
        "    results = []\n",
        "    fold_size = int(len(dataset)/folds) + 1\n",
        "\n",
        "\n",
        "    # Initialize variables to store cumulative metrics\n",
        "    total_precision = 0\n",
        "    total_recall = 0\n",
        "    total_f1 = 0\n",
        "    total_accuracy = 0\n",
        "\n",
        "    for i in range(0,len(dataset),int(fold_size)):\n",
        "        # insert code here that trains and tests on the 10 folds of data in the dataset\n",
        "        print(\"Fold start on items %d - %d\" % (i, i+fold_size))\n",
        "        train_set = dataset[:i] + dataset[i + fold_size:]\n",
        "        test_set = dataset[i:i + fold_size]\n",
        "\n",
        "        # Train the classifier using train_set\n",
        "        classifier = train_classifier(train_set)\n",
        "\n",
        "        # Predict labels for the test_set\n",
        "        predicted_labels = predict_labels([x[0] for x in test_set], classifier)\n",
        "\n",
        "        # Get ground-truth labels\n",
        "        true_labels = [x[1] for x in test_set]\n",
        "\n",
        "\n",
        "        # Calculate metrics for the current fold\n",
        "        precision, recall, f1, _ = precision_recall_fscore_support(true_labels, predicted_labels, average='binary', pos_label=\"positive\")\n",
        "        accuracy = accuracy_score(true_labels, predicted_labels)\n",
        "\n",
        "        # Accumulate metrics for averaging later\n",
        "        total_precision += precision\n",
        "        total_recall += recall\n",
        "        total_f1 += f1\n",
        "        total_accuracy += accuracy\n",
        "\n",
        "    # Calculate average metrics across all folds\n",
        "    avg_precision = total_precision / folds\n",
        "    avg_recall = total_recall / folds\n",
        "    avg_f1 = total_f1 / folds\n",
        "    avg_accuracy = total_accuracy / folds\n",
        "\n",
        "\n",
        "\n",
        "    cv_results = {\n",
        "        'Average Precision': avg_precision,\n",
        "        'Average Recall': avg_recall,\n",
        "        'Average F1 Score': avg_f1,\n",
        "        'Average Accuracy': avg_accuracy\n",
        "    }\n",
        "    # Return the average metrics for further analysis if needed\n",
        "    return cv_results\n",
        "\n",
        "\n"
      ]
    },
    {
      "cell_type": "code",
      "execution_count": 8,
      "metadata": {
        "id": "A32i_i0UkEex"
      },
      "outputs": [],
      "source": [
        "# PREDICTING LABELS GIVEN A CLASSIFIER\n",
        "\n",
        "def predict_labels(samples, classifier):\n",
        "    \"\"\"Assuming preprocessed samples, return their predicted labels from the classifier model.\"\"\"\n",
        "    return classifier.classify_many(samples)\n",
        "\n",
        "def predict_label_from_raw(sample, classifier):\n",
        "    \"\"\"Assuming raw text, return its predicted label from the classifier model.\"\"\"\n",
        "    return classifier.classify(to_feature_vector(preProcess(reviewSample)))"
      ]
    },
    {
      "cell_type": "code",
      "execution_count": 9,
      "metadata": {
        "colab": {
          "base_uri": "https://localhost:8080/"
        },
        "id": "qjrbHUqEkEex",
        "outputId": "a27c0187-a739-4692-ea5b-1de0fe7a8b08"
      },
      "outputs": [
        {
          "output_type": "stream",
          "name": "stdout",
          "text": [
            "Now 0 rawData, 0 trainData, 0 testData\n",
            "Preparing the dataset...\n",
            "Now 33540 rawData, 0 trainData, 0 testData\n",
            "Preparing training and test data...\n",
            "After split, 33540 rawData, 26832 trainData, 6708 testData\n",
            "Training Samples: \n",
            "26832\n",
            "Features: \n",
            "966980\n"
          ]
        }
      ],
      "source": [
        "# MAIN\n",
        "\n",
        "# loading reviews\n",
        "# initialize global lists that will be appended to by the methods below\n",
        "raw_data = []          # the filtered data from the dataset file\n",
        "train_data = []        # the pre-processed training data as a percentage of the total dataset\n",
        "test_data = []         # the pre-processed test data as a percentage of the total dataset\n",
        "\n",
        "\n",
        "# references to the data files\n",
        "data_file_path = 'sentiment-dataset.tsv'\n",
        "\n",
        "# Do the actual stuff (i.e. call the functions we've made)\n",
        "# We parse the dataset and put it in a raw data list\n",
        "print(\"Now %d rawData, %d trainData, %d testData\" % (len(raw_data), len(train_data), len(test_data)),\n",
        "      \"Preparing the dataset...\",sep='\\n')\n",
        "\n",
        "load_data(data_file_path)\n",
        "\n",
        "# We split the raw dataset into a set of training data and a set of test data (80/20)\n",
        "# You do the cross validation on the 80% (training data)\n",
        "# We print the number of training samples and the number of features before the split\n",
        "print(\"Now %d rawData, %d trainData, %d testData\" % (len(raw_data), len(train_data), len(test_data)),\n",
        "      \"Preparing training and test data...\",sep='\\n')\n",
        "\n",
        "split_and_preprocess_data(0.8)\n",
        "\n",
        "# We print the number of training samples and the number of features after the split\n",
        "print(\"After split, %d rawData, %d trainData, %d testData\" % (len(raw_data), len(train_data), len(test_data)),\n",
        "      \"Training Samples: \", len(train_data), \"Features: \", len(global_feature_dict), sep='\\n')\n",
        "\n",
        "\n"
      ]
    },
    {
      "cell_type": "code",
      "execution_count": 10,
      "metadata": {
        "colab": {
          "base_uri": "https://localhost:8080/"
        },
        "id": "J80Rpr6VkEey",
        "outputId": "5e40bc85-4a74-448e-870b-77c55df0b559"
      },
      "outputs": [
        {
          "output_type": "stream",
          "name": "stdout",
          "text": [
            "Fold start on items 0 - 2684\n",
            "Training Classifier...\n",
            "Fold start on items 2684 - 5368\n",
            "Training Classifier...\n",
            "Fold start on items 5368 - 8052\n",
            "Training Classifier...\n",
            "Fold start on items 8052 - 10736\n",
            "Training Classifier...\n",
            "Fold start on items 10736 - 13420\n",
            "Training Classifier...\n",
            "Fold start on items 13420 - 16104\n",
            "Training Classifier...\n",
            "Fold start on items 16104 - 18788\n",
            "Training Classifier...\n",
            "Fold start on items 18788 - 21472\n",
            "Training Classifier...\n",
            "Fold start on items 21472 - 24156\n",
            "Training Classifier...\n",
            "Fold start on items 24156 - 26840\n",
            "Training Classifier...\n"
          ]
        },
        {
          "output_type": "execute_result",
          "data": {
            "text/plain": [
              "{'Average Precision': 0.8813962341618959,\n",
              " 'Average Recall': 0.9056330705302769,\n",
              " 'Average F1 Score': 0.8932641583348335,\n",
              " 'Average Accuracy': 0.8603920926533586}"
            ]
          },
          "metadata": {},
          "execution_count": 10
        }
      ],
      "source": [
        "cross_validate(train_data, 10)  # will work and output overall performance of p, r, f-score when cv implemented"
      ]
    },
    {
      "cell_type": "markdown",
      "metadata": {
        "id": "D8_-sFfskEey"
      },
      "source": [
        "# Question 4: Error Analysis (20 marks)"
      ]
    },
    {
      "cell_type": "code",
      "execution_count": 11,
      "metadata": {
        "id": "keilG3lskEey",
        "colab": {
          "base_uri": "https://localhost:8080/",
          "height": 934
        },
        "outputId": "c85e27c3-87f4-46cb-de21-c54f0356eea0"
      },
      "outputs": [
        {
          "output_type": "stream",
          "name": "stdout",
          "text": [
            "Training Classifier...\n"
          ]
        },
        {
          "output_type": "display_data",
          "data": {
            "text/plain": [
              "<Figure size 1000x1000 with 2 Axes>"
            ],
            "image/png": "[encoded data removed]"
          },
          "metadata": {}
        }
      ],
      "source": [
        "from sklearn import metrics\n",
        "import matplotlib.pyplot as plt\n",
        "# a function to make the confusion matrix readable and pretty\n",
        "def confusion_matrix_heatmap(y_test, preds, labels):\n",
        "    \"\"\"Function to plot a confusion matrix\"\"\"\n",
        "    # pass labels to the confusion matrix function to ensure right order\n",
        "    # cm = metrics.confusion_matrix(y_test, preds, labels)\n",
        "    cm = metrics.confusion_matrix(y_test, preds, labels=labels)\n",
        "    fig = plt.figure(figsize=(10,10))\n",
        "    ax = fig.add_subplot(111)\n",
        "    cax = ax.matshow(cm)\n",
        "    plt.title('Confusion matrix of the classifier')\n",
        "    fig.colorbar(cax)\n",
        "    ax.set_xticks(np.arange(len(labels)))\n",
        "    ax.set_yticks(np.arange(len(labels)))\n",
        "    ax.set_xticklabels( labels, rotation=45)\n",
        "    ax.set_yticklabels( labels)\n",
        "\n",
        "    for i in range(len(cm)):\n",
        "        for j in range(len(cm)):\n",
        "            text = ax.text(j, i, cm[i, j],\n",
        "                           ha=\"center\", va=\"center\", color=\"w\")\n",
        "\n",
        "    plt.xlabel('Predicted')\n",
        "    plt.ylabel('True')\n",
        "\n",
        "    # fix for mpl bug that cuts off top/bottom of seaborn viz:\n",
        "    b, t = plt.ylim() # discover the values for bottom and top\n",
        "    b += 0.5 # Add 0.5 to the bottom\n",
        "    t -= 0.5 # Subtract 0.5 from the top\n",
        "    plt.ylim(b, t) # update the ylim(bottom, top) values\n",
        "    plt.show() # ta-da!\n",
        "\n",
        "# Assuming test_data is a list of tuples (features, label)\n",
        "# where 'label' is the true label and 'features' is the feature vector\n",
        "test_features = [features for features, label in test_data]\n",
        "true_labels = [label for features, label in test_data]\n",
        "\n",
        "# Assuming you have a trained classifier stored in the 'classifier' variable\n",
        "classifier = train_classifier(train_data)\n",
        "predicted_labels = predict_labels(test_features, classifier)\n",
        "\n",
        "# Now you can call the confusion_matrix_heatmap function\n",
        "confusion_matrix_heatmap(true_labels, predicted_labels, labels=[\"positive\", \"negative\"])\n"
      ]
    },
    {
      "cell_type": "code",
      "source": [
        "false_positives = [(test_features[i], true_labels[i]) for i in range(len(test_data))\n",
        "                   if predicted_labels[i] == \"positive\" and true_labels[i] == \"negative\"]\n",
        "\n",
        "false_negatives = [(test_features[i], true_labels[i]) for i in range(len(test_data))\n",
        "                   if predicted_labels[i] == \"negative\" and true_labels[i] == \"positive\"]\n",
        "\n",
        "# Print or write to file\n",
        "with open(\"false_positives.txt\", \"w\") as f:\n",
        "    for features, true_label in false_negatives:\n",
        "        f.write(f\"True Label: {true_label}\\n\")\n",
        "        f.write(f\"Features:{features}\\n\\n\")\n",
        "\n",
        "with open(\"false_positives.txt\", \"w\") as f:\n",
        "    for features, true_label in false_negatives:\n",
        "        f.write(f\"True Label: {true_label}\\n\")\n",
        "        f.write(f\"Features:{features}\\n\\n\")\n",
        "\n",
        "#print(\"FALSE NEGATIVES\", false_negatives)\n",
        "#print(\"FALSE POSITIVES\", false_positives)\n"
      ],
      "metadata": {
        "id": "bp7MGm0lmIBF"
      },
      "execution_count": 12,
      "outputs": []
    },
    {
      "cell_type": "markdown",
      "metadata": {
        "id": "K737N2OFkEey"
      },
      "source": [
        "# Questions 5: Optimising pre-processing and feature extraction (30 marks)"
      ]
    },
    {
      "cell_type": "markdown",
      "metadata": {
        "id": "4eCLl1AkkEey"
      },
      "source": [
        "**Note:** it is advisable to implement question 5 in a separate notebook where you further develop the pre-processing and feature extraction functions you implemented above."
      ]
    },
    {
      "cell_type": "code",
      "execution_count": 13,
      "metadata": {
        "id": "unVCtR25kEey",
        "colab": {
          "base_uri": "https://localhost:8080/"
        },
        "outputId": "39cd6d6b-84e9-45cc-e88e-cc310e2dc887"
      },
      "outputs": [
        {
          "output_type": "stream",
          "name": "stdout",
          "text": [
            "({764: 1, 1832: 2, 5: 2, 6114: 2, 8581: 1, 430: 4, 390561: 1, 755: 1, 429: 1, 804578: 1, 804579: 1, 2297: 1, 1903: 2, 804580: 1, 769: 2, 1388: 1, 1124: 1, 236270: 1, 111: 2, 23404: 1, 11446: 1, 3278: 2, 6133: 2, 804581: 1, 264886: 1, 804582: 1, 804583: 1, 773: 1, 804584: 1, 804585: 1, 804586: 1, 8000: 1, 8001: 1, 804587: 1, 804588: 1, 3277: 1, 244208: 1, 43766: 1, 325953: 1, 804589: 1, 232660: 1, 684604: 1, 52021: 1, 46314: 2, 804590: 1, 804591: 1, 804592: 1, 804593: 1, 804594: 1, 804595: 1, 804596: 1, 804597: 1, 804598: 1, 8016: 1, 804599: 1, 804600: 1, 804601: 1, 3305: 1, 244225: 1, 244226: 1, 804602: 1, 804603: 1, 804604: 1, 804605: 1, 855: 1, 856: 1, 857: 1, 693: 1, 858: 1, 859: 1, 176: 1, 4326: 1, 1889: 2, 1890: 2, 538: 2, 61: 2, 6182: 2, 6183: 2, 715: 2, 1345: 1, 1692: 1, 4766: 1, 1163: 1, 549: 1, 2459: 1, 4767: 1, 3681: 1, 527: 2, 531: 2, 532: 2, 3262: 1, 103453: 1, 390585: 1, 10240: 1, 83: 1, 12170: 1, 820: 1, 821: 1, 822: 1, 823: 1, 824: 1, 825: 1, 826: 1, 528: 1, 529: 1, 22322: 1, 12094: 1, 765228: 1, 116310: 1, 2461: 1, 6810: 1, 8522: 1, 9501: 1, 1580: 1, 2537: 1, 1212: 1, 4070: 1, 27106: 1, 6075: 1, 714: 1, 11929: 1, 713: 2, 68: 2, 69: 2, 2446: 1, 4918: 1, 2393: 1, 363: 1, 581: 1, 695: 1, 3692: 1, 8028: 1, 3991: 1, 8029: 1, 8156: 1, 3330: 1, 3331: 1, 8296: 1, 577: 1, 10235: 2, 2097: 1, 1682: 1, 1683: 1, 4587: 1, 7984: 1, 2275: 1, 568: 1, 29671: 1, 706: 1, 3913: 1, 985: 1, 1332: 1, 1089: 1, 1457: 1, 1458: 1, 1459: 1, 1460: 1, 400: 1, 378: 1, 1230: 1, 1231: 1, 1232: 1, 1202: 1, 1337: 1, 211: 1, 396: 1, 1361: 1, 3350: 1, 7741: 1, 118162: 1, 2006: 1, 590: 1, 712: 1, 4841: 1, 202: 1, 203: 1, 1209: 1, 339: 1, 6191: 1, 23439: 1, 583: 1, 87: 1, 88: 1, 234: 1, 876: 1, 4428: 1}, 'positive')\n",
            "Training Classifier...\n",
            "Done training!\n",
            "Precision: 0.865418\n",
            "Recall: 0.866428\n",
            "F Score:0.865714\n"
          ]
        }
      ],
      "source": [
        "# Finally, check the accuracy of your classifier by training on all the traning data\n",
        "# and testing on the test set\n",
        "# Will only work once all functions are complete\n",
        "functions_complete = True  # set to True once you're happy with your methods for cross val\n",
        "if functions_complete:\n",
        "    print(test_data[0])   # have a look at the first test data instance\n",
        "    classifier = train_classifier(train_data)  # train the classifier\n",
        "    test_true = [t[1] for t in test_data]   # get the ground-truth labels from the data\n",
        "    test_pred = predict_labels([x[0] for x in test_data], classifier)  # classify the test data to get predicted labels\n",
        "    final_scores = precision_recall_fscore_support(test_true, test_pred, average='weighted') # evaluate\n",
        "    print(\"Done training!\")\n",
        "    print(\"Precision: %f\\nRecall: %f\\nF Score:%f\" % final_scores[:3])"
      ]
    }
  ],
  "metadata": {
    "kernelspec": {
      "display_name": "Python 3 (ipykernel)",
      "language": "python",
      "name": "python3"
    },
    "language_info": {
      "codemirror_mode": {
        "name": "ipython",
        "version": 3
      },
      "file_extension": ".py",
      "mimetype": "text/x-python",
      "name": "python",
      "nbconvert_exporter": "python",
      "pygments_lexer": "ipython3",
      "version": "3.10.13"
    },
    "colab": {
      "provenance": []
    }
  },
  "nbformat": 4,
  "nbformat_minor": 0
}